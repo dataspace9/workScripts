{
 "cells": [
  {
   "cell_type": "code",
   "execution_count": 5,
   "id": "402d6eae",
   "metadata": {
    "scrolled": true
   },
   "outputs": [],
   "source": [
    "from datetime import datetime\n",
    "import pymongo\n",
    "from pymongo import MongoClient"
   ]
  },
  {
   "cell_type": "code",
   "execution_count": 6,
   "id": "20bbc6de",
   "metadata": {
    "scrolled": true
   },
   "outputs": [],
   "source": [
    "# from dbConnectionScript import connectionScript\n",
    "import pandas as pd\n",
    "\n",
    "env = \"uat\"\n",
    "\n",
    "dbName = \"assurekitDS\"\n",
    "\n",
    "collection = \"companyScrapingData\"\n",
    "\n",
    "p = connectionScript(env = env, dbName = dbName, collectionName= collection)"
   ]
  },
  {
   "cell_type": "code",
   "execution_count": 7,
   "id": "68cfc08b",
   "metadata": {
    "scrolled": true
   },
   "outputs": [],
   "source": [
    "data = list(p.collection.find({},{\"_id\":0}).sort(\"_id\",1).limit(300000))\n",
    "# df = pd.DataFrame(data)\n",
    "# print(df.to_dict(\"records\")[:1])\n",
    "# df['id'] = [x for x in range(1196082,len(data))]"
   ]
  },
  {
   "cell_type": "code",
   "execution_count": 8,
   "id": "367b2364",
   "metadata": {},
   "outputs": [],
   "source": [
    "df = pd.DataFrame(data)\n",
    "# print(df.to_dict(\"records\")[:1])"
   ]
  },
  {
   "cell_type": "code",
   "execution_count": null,
   "id": "08a720be",
   "metadata": {},
   "outputs": [],
   "source": []
  },
  {
   "cell_type": "code",
   "execution_count": 9,
   "id": "ffabbdd7",
   "metadata": {
    "scrolled": true
   },
   "outputs": [
    {
     "name": "stdout",
     "output_type": "stream",
     "text": [
      "[{'companyId': 'AAK-8285', '1': 'Company Name', 'name': 'CENTURION CONSULTING LLP', '3': 'Company Status', 'govStatus': 'Active', '5': 'RoC', 'registrationAuthority': 'RoC-Delhi', '7': 'Main division of business activity to be carried out in India ', 'business': 'Other Business Activities', '9': 'Description of main division', '10': 'Other Business Activities', '11': 'Number Of Partners ', '12': '0', '13': 'Number of Designated Partners', '14': '2', '15': 'Date of Incorporation', 'registrationDate': '11 October 2017', '17': 'Age of Company', '18': '5 years, 7 month, 6 days', '19': 'Login to view previous names', '20': 'Login to view previous cins', '21': 'Total Obligation of Contribution ', '22': '₹100,000', '23': 'Number of Employees', '24': 'Login to view', '25': 'Date of last financial year end date for which Statement of Accounts and Solvency filed', '26': 'N/A', '27': 'Date of last financial year end date for which Annual Return filed', '28': 'N/A', '29': 'Balance Sheet', '30': 'Paid-up Capital', '31': 'Reserves & Surplus', '32': 'Long Term Borrowings', '33': 'Short Term Borrowings', '34': 'Trade Payables', '35': 'Current Investments', '36': 'Inventories', '37': 'Trade Receivables', '38': 'Cash and Bank Balances', '39': 'Profit & Loss', '40': 'Total Revenue (Turnover)', '41': 'Total Expenses', '42': 'Employee Benefit Expenses', '43': 'Finance Costs', '44': 'Depriciation', '45': 'Profit Before Tax', '46': 'Profit After Tax', '47': ' Click here to view all available financial documents and regulatory filings of CENTURION CONSULTING LLP ', 'emailAddress': ' Email ID: pramjeet@gmail.com', '49': 'Website: Click here   to add.', '50': 'Address: ', 'address': 'Dabri Mod, RZ-74A, SITA PURI 1 GALI NO.9 NEW DELHI West Delhi DL 110059 IN', '52': '07932782', '53': ' CHANCHAL', '54': 'Designated Partner', '55': '11 October 2017'}]\n"
     ]
    }
   ],
   "source": [
    "df.rename(columns = {\n",
    "    \"0\":\"companyId\",\n",
    "    \"2\":\"name\",\n",
    "    \"4\":\"govStatus\",\n",
    "    # \"class\" : \"LLP\",\n",
    "    # \"subCategory\" : \"LLP\",\n",
    "    \"16\":\"registrationDate\",\n",
    "    # \"registrationState\" : \"Bangalore\",\n",
    "    # \"authorisedCapital\" : \"\",\n",
    "    # \"paidUpCapital\" : \"\",\n",
    "    \"8\":\"business\",\n",
    "    \"51\":\"address\",\n",
    "    \"6\":\"registrationAuthority\",\n",
    "    \"48\":\"emailAddress\"\n",
    "    # \"dateOfIncorporation\" : 2017,\n",
    "    # \"id\" : \"1196082\",\n",
    "    # \"status\" : \"active\"\n",
    "},inplace = True)\n",
    "print(df.to_dict(\"records\")[:1])\n",
    "\n"
   ]
  },
  {
   "cell_type": "code",
   "execution_count": 10,
   "id": "31e9075f",
   "metadata": {
    "scrolled": true
   },
   "outputs": [],
   "source": [
    "df = df[['companyId','name','govStatus',\"registrationDate\",'business','address','registrationAuthority','emailAddress']]\n"
   ]
  },
  {
   "cell_type": "code",
   "execution_count": 11,
   "id": "b21aa570",
   "metadata": {
    "scrolled": true
   },
   "outputs": [],
   "source": [
    "df = df[df[\"govStatus\"] == \"Active\"]"
   ]
  },
  {
   "cell_type": "code",
   "execution_count": 12,
   "id": "67fc9ac9",
   "metadata": {
    "scrolled": false
   },
   "outputs": [],
   "source": [
    "df.drop_duplicates(subset = ['companyId'],inplace = True,keep = \"first\")"
   ]
  },
  {
   "cell_type": "code",
   "execution_count": 13,
   "id": "57376b25",
   "metadata": {
    "scrolled": true
   },
   "outputs": [
    {
     "data": {
      "text/html": [
       "<div>\n",
       "<style scoped>\n",
       "    .dataframe tbody tr th:only-of-type {\n",
       "        vertical-align: middle;\n",
       "    }\n",
       "\n",
       "    .dataframe tbody tr th {\n",
       "        vertical-align: top;\n",
       "    }\n",
       "\n",
       "    .dataframe thead th {\n",
       "        text-align: right;\n",
       "    }\n",
       "</style>\n",
       "<table border=\"1\" class=\"dataframe\">\n",
       "  <thead>\n",
       "    <tr style=\"text-align: right;\">\n",
       "      <th></th>\n",
       "      <th>companyId</th>\n",
       "      <th>name</th>\n",
       "      <th>registrationDate</th>\n",
       "      <th>business</th>\n",
       "      <th>address</th>\n",
       "      <th>registrationAuthority</th>\n",
       "      <th>emailAddress</th>\n",
       "    </tr>\n",
       "    <tr>\n",
       "      <th>govStatus</th>\n",
       "      <th></th>\n",
       "      <th></th>\n",
       "      <th></th>\n",
       "      <th></th>\n",
       "      <th></th>\n",
       "      <th></th>\n",
       "      <th></th>\n",
       "    </tr>\n",
       "  </thead>\n",
       "  <tbody>\n",
       "    <tr>\n",
       "      <th>Active</th>\n",
       "      <td>186340</td>\n",
       "      <td>186340</td>\n",
       "      <td>186340</td>\n",
       "      <td>186340</td>\n",
       "      <td>186340</td>\n",
       "      <td>186340</td>\n",
       "      <td>186340</td>\n",
       "    </tr>\n",
       "  </tbody>\n",
       "</table>\n",
       "</div>"
      ],
      "text/plain": [
       "           companyId    name  registrationDate  business  address  \\\n",
       "govStatus                                                           \n",
       "Active        186340  186340            186340    186340   186340   \n",
       "\n",
       "           registrationAuthority  emailAddress  \n",
       "govStatus                                       \n",
       "Active                    186340        186340  "
      ]
     },
     "execution_count": 13,
     "metadata": {},
     "output_type": "execute_result"
    }
   ],
   "source": [
    "df.groupby('govStatus').count()"
   ]
  },
  {
   "cell_type": "code",
   "execution_count": 14,
   "id": "0ce2804c",
   "metadata": {
    "scrolled": true
   },
   "outputs": [],
   "source": [
    "email = \"Email ID: pramjeet@gmail.com\""
   ]
  },
  {
   "cell_type": "code",
   "execution_count": 15,
   "id": "b6459764",
   "metadata": {
    "scrolled": true
   },
   "outputs": [],
   "source": [
    "def cleanEmailId(email):\n",
    "        articlesToRemove = len(\"Email ID: \")\n",
    "        return email[articlesToRemove:] if \"Email ID:\" in email else email\n",
    "    \n",
    "def getPincode(address):\n",
    "    return address[-6:]\n",
    "\n",
    "def checkStringIsNumerics(pin):\n",
    "    return True if pin.isnumeric() else False\n",
    "\n",
    "\n"
   ]
  },
  {
   "cell_type": "code",
   "execution_count": 16,
   "id": "a2b743fa",
   "metadata": {
    "scrolled": false
   },
   "outputs": [],
   "source": [
    "df['emailAddress'] = df['emailAddress'].apply(cleanEmailId)"
   ]
  },
  {
   "cell_type": "code",
   "execution_count": 17,
   "id": "56470e25",
   "metadata": {
    "scrolled": true
   },
   "outputs": [],
   "source": [
    "df['x'] = pd.to_datetime(df['registrationDate'],format = \"%d %B %Y\", errors = \"coerce\")"
   ]
  },
  {
   "cell_type": "code",
   "execution_count": 18,
   "id": "4ef42dac",
   "metadata": {},
   "outputs": [],
   "source": [
    "df = df[df['x'].notna()]"
   ]
  },
  {
   "cell_type": "code",
   "execution_count": 19,
   "id": "5e159433",
   "metadata": {},
   "outputs": [],
   "source": [
    "df['registrationDate'] = df['x']"
   ]
  },
  {
   "cell_type": "code",
   "execution_count": 20,
   "id": "1bc6a092",
   "metadata": {
    "scrolled": true
   },
   "outputs": [],
   "source": [
    "df.drop(columns = ['x'], inplace = True)"
   ]
  },
  {
   "cell_type": "code",
   "execution_count": 21,
   "id": "f952bf3d",
   "metadata": {
    "scrolled": true
   },
   "outputs": [],
   "source": [
    "df['pincode'] = df['address'].apply(getPincode)"
   ]
  },
  {
   "cell_type": "code",
   "execution_count": 22,
   "id": "6c1b5505",
   "metadata": {
    "scrolled": true
   },
   "outputs": [],
   "source": [
    "df['checkPin'] = df['pincode'].apply(checkStringIsNumerics)"
   ]
  },
  {
   "cell_type": "code",
   "execution_count": 23,
   "id": "25873626",
   "metadata": {
    "scrolled": true
   },
   "outputs": [],
   "source": [
    "df['pin'] = df['pincode'].apply(lambda x:x if x.isnumeric() else \"\")"
   ]
  },
  {
   "cell_type": "code",
   "execution_count": 24,
   "id": "063302d8",
   "metadata": {
    "scrolled": true
   },
   "outputs": [],
   "source": [
    "df.rename(columns = {\"pin\":\"companyPincode\"},inplace = True)"
   ]
  },
  {
   "cell_type": "code",
   "execution_count": 25,
   "id": "6fdfca64",
   "metadata": {
    "scrolled": true
   },
   "outputs": [],
   "source": [
    "df.drop(columns = ['pincode',\"checkPin\"], inplace = True)"
   ]
  },
  {
   "cell_type": "code",
   "execution_count": 26,
   "id": "06386a10",
   "metadata": {},
   "outputs": [
    {
     "data": {
      "text/plain": [
       "[5, 6, 7, 8, 9]"
      ]
     },
     "execution_count": 26,
     "metadata": {},
     "output_type": "execute_result"
    }
   ],
   "source": [
    "[x for x in range(5,10)]"
   ]
  },
  {
   "cell_type": "code",
   "execution_count": 27,
   "id": "f82b2788",
   "metadata": {},
   "outputs": [
    {
     "data": {
      "text/plain": [
       "186261"
      ]
     },
     "execution_count": 27,
     "metadata": {},
     "output_type": "execute_result"
    }
   ],
   "source": [
    "len(df.index)"
   ]
  },
  {
   "cell_type": "code",
   "execution_count": 24,
   "id": "b9163172",
   "metadata": {},
   "outputs": [],
   "source": [
    "#[x for x in range(1238133, 1238133 +len(df.index))]"
   ]
  },
  {
   "cell_type": "code",
   "execution_count": 25,
   "id": "a9b729cf",
   "metadata": {},
   "outputs": [],
   "source": [
    "# df['dateOfIncorporation'] = [x for x in range(1196082, len(df.index)]\n",
    "#df['id'] = [x for x in range(1238133, 1238133 +len(df.index))]"
   ]
  },
  {
   "cell_type": "code",
   "execution_count": 28,
   "id": "9f427328",
   "metadata": {},
   "outputs": [],
   "source": [
    "df['dateOfIncorporation'] = df['registrationDate'].dt.year"
   ]
  },
  {
   "cell_type": "code",
   "execution_count": 29,
   "id": "af947a0e",
   "metadata": {},
   "outputs": [],
   "source": [
    "df['registrationDate'] = df['registrationDate'].astype(str)"
   ]
  },
  {
   "cell_type": "code",
   "execution_count": 30,
   "id": "a02bc27c",
   "metadata": {},
   "outputs": [],
   "source": [
    "# df['dateOfIncorporation']\n",
    "df['class'] = \"LLP\"\n",
    "df['subCategory'] = \"LLP\"\n",
    "df['registrationState'] = \"\"\n",
    "df['authorisedCapital'] = \"\"\n",
    "df['paidUpCapital'] = \"\"\n",
    "df['status'] = \"active\""
   ]
  },
  {
   "cell_type": "code",
   "execution_count": 31,
   "id": "918dd5ce",
   "metadata": {},
   "outputs": [],
   "source": [
    "#df['id'] = df['id'].astype(str)"
   ]
  },
  {
   "cell_type": "code",
   "execution_count": 32,
   "id": "02995800",
   "metadata": {
    "scrolled": true
   },
   "outputs": [],
   "source": [
    "# df[df['id'] == \"1238133\"]"
   ]
  },
  {
   "cell_type": "code",
   "execution_count": 33,
   "id": "2cc70ffd",
   "metadata": {},
   "outputs": [],
   "source": [
    "df = df[df['dateOfIncorporation'] <= 2019]"
   ]
  },
  {
   "cell_type": "code",
   "execution_count": 29,
   "id": "bd5ecf7b",
   "metadata": {
    "scrolled": true
   },
   "outputs": [
    {
     "data": {
      "text/plain": [
       "[{'companyId': 'AAK-8285',\n",
       "  'name': 'CENTURION CONSULTING LLP',\n",
       "  'govStatus': 'Active',\n",
       "  'registrationDate': '2017-10-11',\n",
       "  'business': 'Other Business Activities',\n",
       "  'address': 'Dabri Mod, RZ-74A, SITA PURI 1 GALI NO.9 NEW DELHI West Delhi DL 110059 IN',\n",
       "  'registrationAuthority': 'RoC-Delhi',\n",
       "  'emailAddress': ' pramjeet@gmail.com',\n",
       "  'companyPincode': '',\n",
       "  'dateOfIncorporation': 2017,\n",
       "  'class': 'LLP',\n",
       "  'subCategory': 'LLP',\n",
       "  'registrationState': '',\n",
       "  'authorisedCapital': '',\n",
       "  'paidUpCapital': '',\n",
       "  'status': 'active'}]"
      ]
     },
     "execution_count": 29,
     "metadata": {},
     "output_type": "execute_result"
    }
   ],
   "source": [
    "df.to_dict(\"records\")[:1]"
   ]
  },
  {
   "cell_type": "code",
   "execution_count": 30,
   "id": "7a8a996e",
   "metadata": {
    "scrolled": true
   },
   "outputs": [],
   "source": [
    "#df.to_excel(\"llpSet1().xlsx\", index = False)"
   ]
  },
  {
   "cell_type": "code",
   "execution_count": 34,
   "id": "5883f2eb",
   "metadata": {
    "scrolled": false
   },
   "outputs": [],
   "source": [
    "df['business'] = df['business'].apply(lambda x: x if x != \"-\" else \"Other Business Activities\")"
   ]
  },
  {
   "cell_type": "code",
   "execution_count": 35,
   "id": "178590ac",
   "metadata": {},
   "outputs": [
    {
     "data": {
      "text/html": [
       "<div>\n",
       "<style scoped>\n",
       "    .dataframe tbody tr th:only-of-type {\n",
       "        vertical-align: middle;\n",
       "    }\n",
       "\n",
       "    .dataframe tbody tr th {\n",
       "        vertical-align: top;\n",
       "    }\n",
       "\n",
       "    .dataframe thead th {\n",
       "        text-align: right;\n",
       "    }\n",
       "</style>\n",
       "<table border=\"1\" class=\"dataframe\">\n",
       "  <thead>\n",
       "    <tr style=\"text-align: right;\">\n",
       "      <th></th>\n",
       "      <th>companyId</th>\n",
       "      <th>name</th>\n",
       "      <th>govStatus</th>\n",
       "      <th>registrationDate</th>\n",
       "      <th>business</th>\n",
       "      <th>address</th>\n",
       "      <th>registrationAuthority</th>\n",
       "      <th>emailAddress</th>\n",
       "      <th>companyPincode</th>\n",
       "      <th>dateOfIncorporation</th>\n",
       "      <th>class</th>\n",
       "      <th>subCategory</th>\n",
       "      <th>registrationState</th>\n",
       "      <th>authorisedCapital</th>\n",
       "      <th>paidUpCapital</th>\n",
       "      <th>status</th>\n",
       "    </tr>\n",
       "  </thead>\n",
       "  <tbody>\n",
       "    <tr>\n",
       "      <th>0</th>\n",
       "      <td>AAK-8285</td>\n",
       "      <td>CENTURION CONSULTING LLP</td>\n",
       "      <td>Active</td>\n",
       "      <td>2017-10-11</td>\n",
       "      <td>Other Business Activities</td>\n",
       "      <td>Dabri Mod, RZ-74A, SITA PURI 1 GALI NO.9 NEW D...</td>\n",
       "      <td>RoC-Delhi</td>\n",
       "      <td>pramjeet@gmail.com</td>\n",
       "      <td></td>\n",
       "      <td>2017</td>\n",
       "      <td>LLP</td>\n",
       "      <td>LLP</td>\n",
       "      <td></td>\n",
       "      <td></td>\n",
       "      <td></td>\n",
       "      <td>active</td>\n",
       "    </tr>\n",
       "    <tr>\n",
       "      <th>1</th>\n",
       "      <td>AAJ-4794</td>\n",
       "      <td>HAYA ONLINE SERVICES LLP</td>\n",
       "      <td>Active</td>\n",
       "      <td>2017-05-23</td>\n",
       "      <td>Retail trade,except of motor vehicles and moto...</td>\n",
       "      <td>FL No B- 802, Meghvarsha S - 119/2/3, Warje, N...</td>\n",
       "      <td>RoC-Pune</td>\n",
       "      <td>kelkarnayna@gmail.com</td>\n",
       "      <td></td>\n",
       "      <td>2017</td>\n",
       "      <td>LLP</td>\n",
       "      <td>LLP</td>\n",
       "      <td></td>\n",
       "      <td></td>\n",
       "      <td></td>\n",
       "      <td>active</td>\n",
       "    </tr>\n",
       "    <tr>\n",
       "      <th>2</th>\n",
       "      <td>AAQ-3025</td>\n",
       "      <td>EKSYA EXPORTS LLP</td>\n",
       "      <td>Active</td>\n",
       "      <td>2019-08-20</td>\n",
       "      <td>Other Business Activities</td>\n",
       "      <td>No. 93, Kavita, Ground floor, Seeta circle SBM...</td>\n",
       "      <td>RoC-Bangalore</td>\n",
       "      <td>anand.bv1991@gmail.com</td>\n",
       "      <td></td>\n",
       "      <td>2019</td>\n",
       "      <td>LLP</td>\n",
       "      <td>LLP</td>\n",
       "      <td></td>\n",
       "      <td></td>\n",
       "      <td></td>\n",
       "      <td>active</td>\n",
       "    </tr>\n",
       "    <tr>\n",
       "      <th>4</th>\n",
       "      <td>AAQ-8595</td>\n",
       "      <td>SUNNYRAJ PHARMACEUTICALS LLP</td>\n",
       "      <td>Active</td>\n",
       "      <td>2019-10-19</td>\n",
       "      <td>Wholesale trade and commission trade, except o...</td>\n",
       "      <td>308/11 DISTT CENTRE JANAKPURI NEW DELHI West D...</td>\n",
       "      <td>RoC-Delhi</td>\n",
       "      <td>managerfinance@smplgroup.org</td>\n",
       "      <td></td>\n",
       "      <td>2019</td>\n",
       "      <td>LLP</td>\n",
       "      <td>LLP</td>\n",
       "      <td></td>\n",
       "      <td></td>\n",
       "      <td></td>\n",
       "      <td>active</td>\n",
       "    </tr>\n",
       "    <tr>\n",
       "      <th>5</th>\n",
       "      <td>AAN-9892</td>\n",
       "      <td>SUDEVI INTELLECT LLP</td>\n",
       "      <td>Active</td>\n",
       "      <td>2019-01-10</td>\n",
       "      <td>Other Business Activities</td>\n",
       "      <td>SHOP NO.148, BOULEVARD MAJIWADA, LODHA PARADIS...</td>\n",
       "      <td>RoC-Mumbai</td>\n",
       "      <td>raghav.agarwal@sudevichemicals.com</td>\n",
       "      <td></td>\n",
       "      <td>2019</td>\n",
       "      <td>LLP</td>\n",
       "      <td>LLP</td>\n",
       "      <td></td>\n",
       "      <td></td>\n",
       "      <td></td>\n",
       "      <td>active</td>\n",
       "    </tr>\n",
       "    <tr>\n",
       "      <th>...</th>\n",
       "      <td>...</td>\n",
       "      <td>...</td>\n",
       "      <td>...</td>\n",
       "      <td>...</td>\n",
       "      <td>...</td>\n",
       "      <td>...</td>\n",
       "      <td>...</td>\n",
       "      <td>...</td>\n",
       "      <td>...</td>\n",
       "      <td>...</td>\n",
       "      <td>...</td>\n",
       "      <td>...</td>\n",
       "      <td>...</td>\n",
       "      <td>...</td>\n",
       "      <td>...</td>\n",
       "      <td>...</td>\n",
       "    </tr>\n",
       "    <tr>\n",
       "      <th>283293</th>\n",
       "      <td>AAI-5176</td>\n",
       "      <td>DK BIOSCIENCES LLP</td>\n",
       "      <td>Active</td>\n",
       "      <td>2017-02-09</td>\n",
       "      <td>Other Business Activities</td>\n",
       "      <td>Opposite Kalla Petrol Pump NH-15 Jaisalmer Roa...</td>\n",
       "      <td>RoC-Jaipur</td>\n",
       "      <td>dkbiosciences@chura.co.in</td>\n",
       "      <td>334001</td>\n",
       "      <td>2017</td>\n",
       "      <td>LLP</td>\n",
       "      <td>LLP</td>\n",
       "      <td></td>\n",
       "      <td></td>\n",
       "      <td></td>\n",
       "      <td>active</td>\n",
       "    </tr>\n",
       "    <tr>\n",
       "      <th>283294</th>\n",
       "      <td>AAN-4195</td>\n",
       "      <td>KROZONE TECHNOLOGIES LLP</td>\n",
       "      <td>Active</td>\n",
       "      <td>2018-10-11</td>\n",
       "      <td>Other Business Activities</td>\n",
       "      <td>306, ABHISHILP COMPLEX, NR. VISHWESHWAR MAHADE...</td>\n",
       "      <td>RoC-Ahmedabad</td>\n",
       "      <td>JASENT1997@GMAIL.COM</td>\n",
       "      <td>380015</td>\n",
       "      <td>2018</td>\n",
       "      <td>LLP</td>\n",
       "      <td>LLP</td>\n",
       "      <td></td>\n",
       "      <td></td>\n",
       "      <td></td>\n",
       "      <td>active</td>\n",
       "    </tr>\n",
       "    <tr>\n",
       "      <th>283295</th>\n",
       "      <td>AAO-5269</td>\n",
       "      <td>WINGS TECHNO PRODUCT LLP</td>\n",
       "      <td>Active</td>\n",
       "      <td>2019-03-13</td>\n",
       "      <td>Other Business Activities</td>\n",
       "      <td>NO.2, 1ST STREET, GOVINDHARAJAPURAM, NA ADYAR ...</td>\n",
       "      <td>RoC-Chennai</td>\n",
       "      <td>apex@live.in</td>\n",
       "      <td>600020</td>\n",
       "      <td>2019</td>\n",
       "      <td>LLP</td>\n",
       "      <td>LLP</td>\n",
       "      <td></td>\n",
       "      <td></td>\n",
       "      <td></td>\n",
       "      <td>active</td>\n",
       "    </tr>\n",
       "    <tr>\n",
       "      <th>283299</th>\n",
       "      <td>AAI-0333</td>\n",
       "      <td>ANSH REAL ESTATES LLP</td>\n",
       "      <td>Active</td>\n",
       "      <td>2016-12-16</td>\n",
       "      <td>Other Business Activities</td>\n",
       "      <td>H NO. 1246 SECTOR 22 B NA CHANDIGARH Chandigar...</td>\n",
       "      <td>RoC-Chandigarh</td>\n",
       "      <td>hkpuri_2007@rediffmail.com</td>\n",
       "      <td>160022</td>\n",
       "      <td>2016</td>\n",
       "      <td>LLP</td>\n",
       "      <td>LLP</td>\n",
       "      <td></td>\n",
       "      <td></td>\n",
       "      <td></td>\n",
       "      <td>active</td>\n",
       "    </tr>\n",
       "    <tr>\n",
       "      <th>283320</th>\n",
       "      <td>AAL-8328</td>\n",
       "      <td>EXPAT EXPERTS LLP</td>\n",
       "      <td>Active</td>\n",
       "      <td>2018-01-24</td>\n",
       "      <td>Other Business Activities</td>\n",
       "      <td>House No. 99, Madangir NA New Delhi New Delhi ...</td>\n",
       "      <td>RoC-Delhi</td>\n",
       "      <td>cssanjeevjha@gmail.com</td>\n",
       "      <td>110062</td>\n",
       "      <td>2018</td>\n",
       "      <td>LLP</td>\n",
       "      <td>LLP</td>\n",
       "      <td></td>\n",
       "      <td></td>\n",
       "      <td></td>\n",
       "      <td>active</td>\n",
       "    </tr>\n",
       "  </tbody>\n",
       "</table>\n",
       "<p>103975 rows × 16 columns</p>\n",
       "</div>"
      ],
      "text/plain": [
       "       companyId                          name govStatus registrationDate  \\\n",
       "0       AAK-8285      CENTURION CONSULTING LLP    Active       2017-10-11   \n",
       "1       AAJ-4794      HAYA ONLINE SERVICES LLP    Active       2017-05-23   \n",
       "2       AAQ-3025             EKSYA EXPORTS LLP    Active       2019-08-20   \n",
       "4       AAQ-8595  SUNNYRAJ PHARMACEUTICALS LLP    Active       2019-10-19   \n",
       "5       AAN-9892          SUDEVI INTELLECT LLP    Active       2019-01-10   \n",
       "...          ...                           ...       ...              ...   \n",
       "283293  AAI-5176            DK BIOSCIENCES LLP    Active       2017-02-09   \n",
       "283294  AAN-4195      KROZONE TECHNOLOGIES LLP    Active       2018-10-11   \n",
       "283295  AAO-5269      WINGS TECHNO PRODUCT LLP    Active       2019-03-13   \n",
       "283299  AAI-0333         ANSH REAL ESTATES LLP    Active       2016-12-16   \n",
       "283320  AAL-8328             EXPAT EXPERTS LLP    Active       2018-01-24   \n",
       "\n",
       "                                                 business  \\\n",
       "0                               Other Business Activities   \n",
       "1       Retail trade,except of motor vehicles and moto...   \n",
       "2                               Other Business Activities   \n",
       "4       Wholesale trade and commission trade, except o...   \n",
       "5                               Other Business Activities   \n",
       "...                                                   ...   \n",
       "283293                          Other Business Activities   \n",
       "283294                          Other Business Activities   \n",
       "283295                          Other Business Activities   \n",
       "283299                          Other Business Activities   \n",
       "283320                          Other Business Activities   \n",
       "\n",
       "                                                  address  \\\n",
       "0       Dabri Mod, RZ-74A, SITA PURI 1 GALI NO.9 NEW D...   \n",
       "1       FL No B- 802, Meghvarsha S - 119/2/3, Warje, N...   \n",
       "2       No. 93, Kavita, Ground floor, Seeta circle SBM...   \n",
       "4       308/11 DISTT CENTRE JANAKPURI NEW DELHI West D...   \n",
       "5       SHOP NO.148, BOULEVARD MAJIWADA, LODHA PARADIS...   \n",
       "...                                                   ...   \n",
       "283293  Opposite Kalla Petrol Pump NH-15 Jaisalmer Roa...   \n",
       "283294  306, ABHISHILP COMPLEX, NR. VISHWESHWAR MAHADE...   \n",
       "283295  NO.2, 1ST STREET, GOVINDHARAJAPURAM, NA ADYAR ...   \n",
       "283299  H NO. 1246 SECTOR 22 B NA CHANDIGARH Chandigar...   \n",
       "283320  House No. 99, Madangir NA New Delhi New Delhi ...   \n",
       "\n",
       "       registrationAuthority                         emailAddress  \\\n",
       "0                  RoC-Delhi                   pramjeet@gmail.com   \n",
       "1                   RoC-Pune                kelkarnayna@gmail.com   \n",
       "2              RoC-Bangalore               anand.bv1991@gmail.com   \n",
       "4                  RoC-Delhi         managerfinance@smplgroup.org   \n",
       "5                 RoC-Mumbai   raghav.agarwal@sudevichemicals.com   \n",
       "...                      ...                                  ...   \n",
       "283293            RoC-Jaipur            dkbiosciences@chura.co.in   \n",
       "283294         RoC-Ahmedabad                 JASENT1997@GMAIL.COM   \n",
       "283295           RoC-Chennai                         apex@live.in   \n",
       "283299        RoC-Chandigarh           hkpuri_2007@rediffmail.com   \n",
       "283320             RoC-Delhi               cssanjeevjha@gmail.com   \n",
       "\n",
       "       companyPincode  dateOfIncorporation class subCategory  \\\n",
       "0                                     2017   LLP         LLP   \n",
       "1                                     2017   LLP         LLP   \n",
       "2                                     2019   LLP         LLP   \n",
       "4                                     2019   LLP         LLP   \n",
       "5                                     2019   LLP         LLP   \n",
       "...               ...                  ...   ...         ...   \n",
       "283293         334001                 2017   LLP         LLP   \n",
       "283294         380015                 2018   LLP         LLP   \n",
       "283295         600020                 2019   LLP         LLP   \n",
       "283299         160022                 2016   LLP         LLP   \n",
       "283320         110062                 2018   LLP         LLP   \n",
       "\n",
       "       registrationState authorisedCapital paidUpCapital  status  \n",
       "0                                                         active  \n",
       "1                                                         active  \n",
       "2                                                         active  \n",
       "4                                                         active  \n",
       "5                                                         active  \n",
       "...                  ...               ...           ...     ...  \n",
       "283293                                                    active  \n",
       "283294                                                    active  \n",
       "283295                                                    active  \n",
       "283299                                                    active  \n",
       "283320                                                    active  \n",
       "\n",
       "[103975 rows x 16 columns]"
      ]
     },
     "execution_count": 35,
     "metadata": {},
     "output_type": "execute_result"
    }
   ],
   "source": [
    "df"
   ]
  },
  {
   "cell_type": "code",
   "execution_count": 36,
   "id": "ceb7b5ea",
   "metadata": {
    "scrolled": true
   },
   "outputs": [],
   "source": [
    "import pandas as pd\n",
    "\n",
    "env = \"uat\"\n",
    "\n",
    "dbName = \"masters\"\n",
    "\n",
    "collection = \"assurekitcompanymasters\"\n",
    "\n",
    "q = connectionScript(env = env, dbName = dbName, collectionName= collection)"
   ]
  },
  {
   "cell_type": "code",
   "execution_count": 37,
   "id": "65a9ef49",
   "metadata": {},
   "outputs": [],
   "source": [
    "data = list(q.collection.find({\"class\":\"LLP\"},{\"_id\":0,\"companyId\":1}))"
   ]
  },
  {
   "cell_type": "code",
   "execution_count": 38,
   "id": "78f5f6eb",
   "metadata": {},
   "outputs": [],
   "source": [
    "data = [x['companyId'] for x in data]"
   ]
  },
  {
   "cell_type": "code",
   "execution_count": 39,
   "id": "212f5702",
   "metadata": {},
   "outputs": [
    {
     "data": {
      "text/plain": [
       "103294"
      ]
     },
     "execution_count": 39,
     "metadata": {},
     "output_type": "execute_result"
    }
   ],
   "source": [
    "len(data)"
   ]
  },
  {
   "cell_type": "code",
   "execution_count": 40,
   "id": "43d4dd5e",
   "metadata": {},
   "outputs": [],
   "source": [
    "llpsToBeIncorporated = [x for x in list(df['companyId']) if x not in data]"
   ]
  },
  {
   "cell_type": "code",
   "execution_count": 41,
   "id": "00b6e99c",
   "metadata": {},
   "outputs": [],
   "source": [
    "dfFinal = df[df['companyId'].isin(llpsToBeIncorporated)]"
   ]
  },
  {
   "cell_type": "code",
   "execution_count": 42,
   "id": "96a6ea69",
   "metadata": {},
   "outputs": [
    {
     "name": "stderr",
     "output_type": "stream",
     "text": [
      "C:\\Users\\sheld\\AppData\\Local\\Temp/ipykernel_4988/3709122067.py:1: SettingWithCopyWarning: \n",
      "A value is trying to be set on a copy of a slice from a DataFrame.\n",
      "Try using .loc[row_indexer,col_indexer] = value instead\n",
      "\n",
      "See the caveats in the documentation: https://pandas.pydata.org/pandas-docs/stable/user_guide/indexing.html#returning-a-view-versus-a-copy\n",
      "  dfFinal['id'] = [x for x in range(1262569, 1262569 +len(dfFinal.index))]\n"
     ]
    }
   ],
   "source": [
    "dfFinal['id'] = [x for x in range(1262569, 1262569 +len(dfFinal.index))]"
   ]
  },
  {
   "cell_type": "code",
   "execution_count": 43,
   "id": "a4c8e649",
   "metadata": {
    "scrolled": false
   },
   "outputs": [
    {
     "name": "stderr",
     "output_type": "stream",
     "text": [
      "C:\\Users\\sheld\\AppData\\Local\\Temp/ipykernel_4988/1763977857.py:1: SettingWithCopyWarning: \n",
      "A value is trying to be set on a copy of a slice from a DataFrame.\n",
      "Try using .loc[row_indexer,col_indexer] = value instead\n",
      "\n",
      "See the caveats in the documentation: https://pandas.pydata.org/pandas-docs/stable/user_guide/indexing.html#returning-a-view-versus-a-copy\n",
      "  dfFinal['id'] = dfFinal['id'].astype('str')\n"
     ]
    }
   ],
   "source": [
    "dfFinal['id'] = dfFinal['id'].astype('str')"
   ]
  },
  {
   "cell_type": "code",
   "execution_count": 44,
   "id": "d7249b57",
   "metadata": {},
   "outputs": [
    {
     "name": "stdout",
     "output_type": "stream",
     "text": [
      "<class 'pandas.core.frame.DataFrame'>\n",
      "Int64Index: 11819 entries, 237665 to 283295\n",
      "Data columns (total 17 columns):\n",
      " #   Column                 Non-Null Count  Dtype \n",
      "---  ------                 --------------  ----- \n",
      " 0   companyId              11819 non-null  object\n",
      " 1   name                   11819 non-null  object\n",
      " 2   govStatus              11819 non-null  object\n",
      " 3   registrationDate       11819 non-null  object\n",
      " 4   business               11819 non-null  object\n",
      " 5   address                11819 non-null  object\n",
      " 6   registrationAuthority  11819 non-null  object\n",
      " 7   emailAddress           11819 non-null  object\n",
      " 8   companyPincode         11819 non-null  object\n",
      " 9   dateOfIncorporation    11819 non-null  int64 \n",
      " 10  class                  11819 non-null  object\n",
      " 11  subCategory            11819 non-null  object\n",
      " 12  registrationState      11819 non-null  object\n",
      " 13  authorisedCapital      11819 non-null  object\n",
      " 14  paidUpCapital          11819 non-null  object\n",
      " 15  status                 11819 non-null  object\n",
      " 16  id                     11819 non-null  object\n",
      "dtypes: int64(1), object(16)\n",
      "memory usage: 1.6+ MB\n"
     ]
    }
   ],
   "source": [
    "dfFinal.info()"
   ]
  },
  {
   "cell_type": "code",
   "execution_count": null,
   "id": "a95b42ea",
   "metadata": {},
   "outputs": [],
   "source": [
    "df.to_excel()"
   ]
  },
  {
   "cell_type": "code",
   "execution_count": 47,
   "id": "6306c8bb",
   "metadata": {
    "scrolled": true
   },
   "outputs": [
    {
     "data": {
      "text/plain": [
       "[{'companyId': 'AAN-4590',\n",
       "  'name': 'TAX WITHOUT TEARS LLP',\n",
       "  'govStatus': 'Active',\n",
       "  'registrationDate': '2018-10-23',\n",
       "  'business': 'Other Business Activities',\n",
       "  'address': 'Block - KD, House No - 209, Pitampura Near Kohat Enclave Metro Station New Delhi North West DL 110088 IN',\n",
       "  'registrationAuthority': 'RoC-Delhi',\n",
       "  'emailAddress': ' INFO@SAAWARIYA.IN',\n",
       "  'companyPincode': '',\n",
       "  'dateOfIncorporation': 2018,\n",
       "  'class': 'LLP',\n",
       "  'subCategory': 'LLP',\n",
       "  'registrationState': '',\n",
       "  'authorisedCapital': '',\n",
       "  'paidUpCapital': '',\n",
       "  'status': 'active',\n",
       "  'id': '1262569'}]"
      ]
     },
     "execution_count": 47,
     "metadata": {},
     "output_type": "execute_result"
    }
   ],
   "source": [
    "dfFinal.to_dict(\"records\")[:1]"
   ]
  },
  {
   "cell_type": "code",
   "execution_count": 48,
   "id": "e7455e34",
   "metadata": {
    "scrolled": true
   },
   "outputs": [],
   "source": [
    "dfFinal.to_json(\"llc\" + datetime.today().strftime(\"%d-%m-%Y\") +\".json\",orient = \"records\")"
   ]
  },
  {
   "cell_type": "code",
   "execution_count": 49,
   "id": "7866bb4b",
   "metadata": {},
   "outputs": [
    {
     "data": {
      "text/html": [
       "<div>\n",
       "<style scoped>\n",
       "    .dataframe tbody tr th:only-of-type {\n",
       "        vertical-align: middle;\n",
       "    }\n",
       "\n",
       "    .dataframe tbody tr th {\n",
       "        vertical-align: top;\n",
       "    }\n",
       "\n",
       "    .dataframe thead th {\n",
       "        text-align: right;\n",
       "    }\n",
       "</style>\n",
       "<table border=\"1\" class=\"dataframe\">\n",
       "  <thead>\n",
       "    <tr style=\"text-align: right;\">\n",
       "      <th></th>\n",
       "      <th>companyId</th>\n",
       "      <th>name</th>\n",
       "      <th>govStatus</th>\n",
       "      <th>registrationDate</th>\n",
       "      <th>business</th>\n",
       "      <th>address</th>\n",
       "      <th>registrationAuthority</th>\n",
       "      <th>emailAddress</th>\n",
       "      <th>companyPincode</th>\n",
       "      <th>dateOfIncorporation</th>\n",
       "      <th>class</th>\n",
       "      <th>subCategory</th>\n",
       "      <th>registrationState</th>\n",
       "      <th>authorisedCapital</th>\n",
       "      <th>paidUpCapital</th>\n",
       "      <th>status</th>\n",
       "      <th>id</th>\n",
       "    </tr>\n",
       "  </thead>\n",
       "  <tbody>\n",
       "    <tr>\n",
       "      <th>237665</th>\n",
       "      <td>AAN-4590</td>\n",
       "      <td>TAX WITHOUT TEARS LLP</td>\n",
       "      <td>Active</td>\n",
       "      <td>2018-10-23</td>\n",
       "      <td>Other Business Activities</td>\n",
       "      <td>Block - KD, House No - 209, Pitampura Near Koh...</td>\n",
       "      <td>RoC-Delhi</td>\n",
       "      <td>INFO@SAAWARIYA.IN</td>\n",
       "      <td></td>\n",
       "      <td>2018</td>\n",
       "      <td>LLP</td>\n",
       "      <td>LLP</td>\n",
       "      <td></td>\n",
       "      <td></td>\n",
       "      <td></td>\n",
       "      <td>active</td>\n",
       "      <td>1262569</td>\n",
       "    </tr>\n",
       "    <tr>\n",
       "      <th>237714</th>\n",
       "      <td>AAB-4836</td>\n",
       "      <td>R C CHADDA &amp; CO LLP</td>\n",
       "      <td>Active</td>\n",
       "      <td>2013-04-25</td>\n",
       "      <td>Other Business Activities</td>\n",
       "      <td>A-27, VIVEK VIHAR PHASE-II OPP. SUKHDEV COLLEG...</td>\n",
       "      <td>RoC-Delhi</td>\n",
       "      <td>RCCANDCO@GMAIL.COM</td>\n",
       "      <td></td>\n",
       "      <td>2013</td>\n",
       "      <td>LLP</td>\n",
       "      <td>LLP</td>\n",
       "      <td></td>\n",
       "      <td></td>\n",
       "      <td></td>\n",
       "      <td>active</td>\n",
       "      <td>1262570</td>\n",
       "    </tr>\n",
       "    <tr>\n",
       "      <th>237715</th>\n",
       "      <td>AAA-1684</td>\n",
       "      <td>RELAN REALTY LLP</td>\n",
       "      <td>Active</td>\n",
       "      <td>2010-06-28</td>\n",
       "      <td>Real estate activities</td>\n",
       "      <td>Unit No. 5, Basement, \"M.G Centrum\" Sultanpur,...</td>\n",
       "      <td>RoC-Delhi</td>\n",
       "      <td>PNRSEC@PNRGROUPINDIA.COM</td>\n",
       "      <td></td>\n",
       "      <td>2010</td>\n",
       "      <td>LLP</td>\n",
       "      <td>LLP</td>\n",
       "      <td></td>\n",
       "      <td></td>\n",
       "      <td></td>\n",
       "      <td>active</td>\n",
       "      <td>1262571</td>\n",
       "    </tr>\n",
       "    <tr>\n",
       "      <th>237719</th>\n",
       "      <td>AAQ-6796</td>\n",
       "      <td>CUTE COINS INDIA LLP</td>\n",
       "      <td>Active</td>\n",
       "      <td>2019-09-27</td>\n",
       "      <td>Other Business Activities</td>\n",
       "      <td>C/O DHARMENDER SINGH TOLNI VILLAGE , SOHNA GUR...</td>\n",
       "      <td>RoC-Delhi</td>\n",
       "      <td>CS@SETINDIABIZ.COM</td>\n",
       "      <td></td>\n",
       "      <td>2019</td>\n",
       "      <td>LLP</td>\n",
       "      <td>LLP</td>\n",
       "      <td></td>\n",
       "      <td></td>\n",
       "      <td></td>\n",
       "      <td>active</td>\n",
       "      <td>1262572</td>\n",
       "    </tr>\n",
       "    <tr>\n",
       "      <th>237747</th>\n",
       "      <td>AAE-9278</td>\n",
       "      <td>FLARE ELECTRICALS LLP</td>\n",
       "      <td>Active</td>\n",
       "      <td>2015-10-14</td>\n",
       "      <td>Other Business Activities</td>\n",
       "      <td>BLD-10/503, CHINAR GREENWAYS CHS LTD.AGARWAL C...</td>\n",
       "      <td>RoC-Mumbai</td>\n",
       "      <td>kiran_gujaran06@rediffmail.com</td>\n",
       "      <td>401104</td>\n",
       "      <td>2015</td>\n",
       "      <td>LLP</td>\n",
       "      <td>LLP</td>\n",
       "      <td></td>\n",
       "      <td></td>\n",
       "      <td></td>\n",
       "      <td>active</td>\n",
       "      <td>1262573</td>\n",
       "    </tr>\n",
       "    <tr>\n",
       "      <th>...</th>\n",
       "      <td>...</td>\n",
       "      <td>...</td>\n",
       "      <td>...</td>\n",
       "      <td>...</td>\n",
       "      <td>...</td>\n",
       "      <td>...</td>\n",
       "      <td>...</td>\n",
       "      <td>...</td>\n",
       "      <td>...</td>\n",
       "      <td>...</td>\n",
       "      <td>...</td>\n",
       "      <td>...</td>\n",
       "      <td>...</td>\n",
       "      <td>...</td>\n",
       "      <td>...</td>\n",
       "      <td>...</td>\n",
       "      <td>...</td>\n",
       "    </tr>\n",
       "    <tr>\n",
       "      <th>283285</th>\n",
       "      <td>AAG-7656</td>\n",
       "      <td>RADHEY GLOBAL LLP</td>\n",
       "      <td>Active</td>\n",
       "      <td>2016-06-24</td>\n",
       "      <td>Manufacture of food products and beverages</td>\n",
       "      <td>SHOP NO 18, NEAR SANSKRUTIK BHAVAN, MORSHI ROA...</td>\n",
       "      <td>RoC-Mumbai</td>\n",
       "      <td>yrz5751@gmail.com</td>\n",
       "      <td>444603</td>\n",
       "      <td>2016</td>\n",
       "      <td>LLP</td>\n",
       "      <td>LLP</td>\n",
       "      <td></td>\n",
       "      <td></td>\n",
       "      <td></td>\n",
       "      <td>active</td>\n",
       "      <td>1274383</td>\n",
       "    </tr>\n",
       "    <tr>\n",
       "      <th>283290</th>\n",
       "      <td>AAD-8722</td>\n",
       "      <td>SAIPRESS PRINTS LLP</td>\n",
       "      <td>Active</td>\n",
       "      <td>2015-05-05</td>\n",
       "      <td>Publishing, printing and reproduction of recor...</td>\n",
       "      <td>Survey No.36, , Hiss No. 2,4, 36/2/3/7 Near Da...</td>\n",
       "      <td>RoC-Pune</td>\n",
       "      <td>viral.saipress@gmail.com</td>\n",
       "      <td>411048</td>\n",
       "      <td>2015</td>\n",
       "      <td>LLP</td>\n",
       "      <td>LLP</td>\n",
       "      <td></td>\n",
       "      <td></td>\n",
       "      <td></td>\n",
       "      <td>active</td>\n",
       "      <td>1274384</td>\n",
       "    </tr>\n",
       "    <tr>\n",
       "      <th>283293</th>\n",
       "      <td>AAI-5176</td>\n",
       "      <td>DK BIOSCIENCES LLP</td>\n",
       "      <td>Active</td>\n",
       "      <td>2017-02-09</td>\n",
       "      <td>Other Business Activities</td>\n",
       "      <td>Opposite Kalla Petrol Pump NH-15 Jaisalmer Roa...</td>\n",
       "      <td>RoC-Jaipur</td>\n",
       "      <td>dkbiosciences@chura.co.in</td>\n",
       "      <td>334001</td>\n",
       "      <td>2017</td>\n",
       "      <td>LLP</td>\n",
       "      <td>LLP</td>\n",
       "      <td></td>\n",
       "      <td></td>\n",
       "      <td></td>\n",
       "      <td>active</td>\n",
       "      <td>1274385</td>\n",
       "    </tr>\n",
       "    <tr>\n",
       "      <th>283294</th>\n",
       "      <td>AAN-4195</td>\n",
       "      <td>KROZONE TECHNOLOGIES LLP</td>\n",
       "      <td>Active</td>\n",
       "      <td>2018-10-11</td>\n",
       "      <td>Other Business Activities</td>\n",
       "      <td>306, ABHISHILP COMPLEX, NR. VISHWESHWAR MAHADE...</td>\n",
       "      <td>RoC-Ahmedabad</td>\n",
       "      <td>JASENT1997@GMAIL.COM</td>\n",
       "      <td>380015</td>\n",
       "      <td>2018</td>\n",
       "      <td>LLP</td>\n",
       "      <td>LLP</td>\n",
       "      <td></td>\n",
       "      <td></td>\n",
       "      <td></td>\n",
       "      <td>active</td>\n",
       "      <td>1274386</td>\n",
       "    </tr>\n",
       "    <tr>\n",
       "      <th>283295</th>\n",
       "      <td>AAO-5269</td>\n",
       "      <td>WINGS TECHNO PRODUCT LLP</td>\n",
       "      <td>Active</td>\n",
       "      <td>2019-03-13</td>\n",
       "      <td>Other Business Activities</td>\n",
       "      <td>NO.2, 1ST STREET, GOVINDHARAJAPURAM, NA ADYAR ...</td>\n",
       "      <td>RoC-Chennai</td>\n",
       "      <td>apex@live.in</td>\n",
       "      <td>600020</td>\n",
       "      <td>2019</td>\n",
       "      <td>LLP</td>\n",
       "      <td>LLP</td>\n",
       "      <td></td>\n",
       "      <td></td>\n",
       "      <td></td>\n",
       "      <td>active</td>\n",
       "      <td>1274387</td>\n",
       "    </tr>\n",
       "  </tbody>\n",
       "</table>\n",
       "<p>11819 rows × 17 columns</p>\n",
       "</div>"
      ],
      "text/plain": [
       "       companyId                      name govStatus registrationDate  \\\n",
       "237665  AAN-4590     TAX WITHOUT TEARS LLP    Active       2018-10-23   \n",
       "237714  AAB-4836       R C CHADDA & CO LLP    Active       2013-04-25   \n",
       "237715  AAA-1684          RELAN REALTY LLP    Active       2010-06-28   \n",
       "237719  AAQ-6796      CUTE COINS INDIA LLP    Active       2019-09-27   \n",
       "237747  AAE-9278     FLARE ELECTRICALS LLP    Active       2015-10-14   \n",
       "...          ...                       ...       ...              ...   \n",
       "283285  AAG-7656         RADHEY GLOBAL LLP    Active       2016-06-24   \n",
       "283290  AAD-8722       SAIPRESS PRINTS LLP    Active       2015-05-05   \n",
       "283293  AAI-5176        DK BIOSCIENCES LLP    Active       2017-02-09   \n",
       "283294  AAN-4195  KROZONE TECHNOLOGIES LLP    Active       2018-10-11   \n",
       "283295  AAO-5269  WINGS TECHNO PRODUCT LLP    Active       2019-03-13   \n",
       "\n",
       "                                                 business  \\\n",
       "237665                          Other Business Activities   \n",
       "237714                          Other Business Activities   \n",
       "237715                             Real estate activities   \n",
       "237719                          Other Business Activities   \n",
       "237747                          Other Business Activities   \n",
       "...                                                   ...   \n",
       "283285         Manufacture of food products and beverages   \n",
       "283290  Publishing, printing and reproduction of recor...   \n",
       "283293                          Other Business Activities   \n",
       "283294                          Other Business Activities   \n",
       "283295                          Other Business Activities   \n",
       "\n",
       "                                                  address  \\\n",
       "237665  Block - KD, House No - 209, Pitampura Near Koh...   \n",
       "237714  A-27, VIVEK VIHAR PHASE-II OPP. SUKHDEV COLLEG...   \n",
       "237715  Unit No. 5, Basement, \"M.G Centrum\" Sultanpur,...   \n",
       "237719  C/O DHARMENDER SINGH TOLNI VILLAGE , SOHNA GUR...   \n",
       "237747  BLD-10/503, CHINAR GREENWAYS CHS LTD.AGARWAL C...   \n",
       "...                                                   ...   \n",
       "283285  SHOP NO 18, NEAR SANSKRUTIK BHAVAN, MORSHI ROA...   \n",
       "283290  Survey No.36, , Hiss No. 2,4, 36/2/3/7 Near Da...   \n",
       "283293  Opposite Kalla Petrol Pump NH-15 Jaisalmer Roa...   \n",
       "283294  306, ABHISHILP COMPLEX, NR. VISHWESHWAR MAHADE...   \n",
       "283295  NO.2, 1ST STREET, GOVINDHARAJAPURAM, NA ADYAR ...   \n",
       "\n",
       "       registrationAuthority                     emailAddress companyPincode  \\\n",
       "237665             RoC-Delhi                INFO@SAAWARIYA.IN                  \n",
       "237714             RoC-Delhi               RCCANDCO@GMAIL.COM                  \n",
       "237715             RoC-Delhi         PNRSEC@PNRGROUPINDIA.COM                  \n",
       "237719             RoC-Delhi               CS@SETINDIABIZ.COM                  \n",
       "237747            RoC-Mumbai   kiran_gujaran06@rediffmail.com         401104   \n",
       "...                      ...                              ...            ...   \n",
       "283285            RoC-Mumbai                yrz5751@gmail.com         444603   \n",
       "283290              RoC-Pune         viral.saipress@gmail.com         411048   \n",
       "283293            RoC-Jaipur        dkbiosciences@chura.co.in         334001   \n",
       "283294         RoC-Ahmedabad             JASENT1997@GMAIL.COM         380015   \n",
       "283295           RoC-Chennai                     apex@live.in         600020   \n",
       "\n",
       "        dateOfIncorporation class subCategory registrationState  \\\n",
       "237665                 2018   LLP         LLP                     \n",
       "237714                 2013   LLP         LLP                     \n",
       "237715                 2010   LLP         LLP                     \n",
       "237719                 2019   LLP         LLP                     \n",
       "237747                 2015   LLP         LLP                     \n",
       "...                     ...   ...         ...               ...   \n",
       "283285                 2016   LLP         LLP                     \n",
       "283290                 2015   LLP         LLP                     \n",
       "283293                 2017   LLP         LLP                     \n",
       "283294                 2018   LLP         LLP                     \n",
       "283295                 2019   LLP         LLP                     \n",
       "\n",
       "       authorisedCapital paidUpCapital  status       id  \n",
       "237665                                  active  1262569  \n",
       "237714                                  active  1262570  \n",
       "237715                                  active  1262571  \n",
       "237719                                  active  1262572  \n",
       "237747                                  active  1262573  \n",
       "...                  ...           ...     ...      ...  \n",
       "283285                                  active  1274383  \n",
       "283290                                  active  1274384  \n",
       "283293                                  active  1274385  \n",
       "283294                                  active  1274386  \n",
       "283295                                  active  1274387  \n",
       "\n",
       "[11819 rows x 17 columns]"
      ]
     },
     "execution_count": 49,
     "metadata": {},
     "output_type": "execute_result"
    }
   ],
   "source": [
    "dfFinal"
   ]
  },
  {
   "cell_type": "code",
   "execution_count": 46,
   "id": "409e7d21",
   "metadata": {
    "scrolled": true
   },
   "outputs": [],
   "source": [
    "#dfFinal.to_excel(\"llc2023-05-23.xlsx\",index = False)"
   ]
  },
  {
   "cell_type": "code",
   "execution_count": null,
   "id": "7d51275e",
   "metadata": {
    "collapsed": true,
    "scrolled": true
   },
   "outputs": [],
   "source": []
  },
  {
   "cell_type": "code",
   "execution_count": null,
   "id": "b19df48f",
   "metadata": {
    "collapsed": true,
    "scrolled": true
   },
   "outputs": [],
   "source": []
  },
  {
   "cell_type": "code",
   "execution_count": null,
   "id": "b40082a8",
   "metadata": {
    "collapsed": true,
    "scrolled": true
   },
   "outputs": [],
   "source": []
  },
  {
   "cell_type": "code",
   "execution_count": null,
   "id": "0c3b4df5",
   "metadata": {
    "collapsed": true,
    "scrolled": true
   },
   "outputs": [],
   "source": []
  },
  {
   "cell_type": "code",
   "execution_count": null,
   "id": "bfb4dba9",
   "metadata": {
    "collapsed": true,
    "scrolled": true
   },
   "outputs": [],
   "source": []
  },
  {
   "cell_type": "code",
   "execution_count": null,
   "id": "6ea8adcb",
   "metadata": {
    "collapsed": true,
    "scrolled": true
   },
   "outputs": [],
   "source": []
  },
  {
   "cell_type": "code",
   "execution_count": null,
   "id": "ad1debf3",
   "metadata": {
    "collapsed": true,
    "scrolled": true
   },
   "outputs": [],
   "source": []
  },
  {
   "cell_type": "code",
   "execution_count": null,
   "id": "e787cdf2",
   "metadata": {
    "collapsed": true,
    "scrolled": true
   },
   "outputs": [],
   "source": []
  },
  {
   "cell_type": "code",
   "execution_count": null,
   "id": "9c8e7231",
   "metadata": {
    "collapsed": true,
    "scrolled": true
   },
   "outputs": [],
   "source": []
  },
  {
   "cell_type": "code",
   "execution_count": null,
   "id": "02980625",
   "metadata": {
    "collapsed": true,
    "scrolled": true
   },
   "outputs": [],
   "source": []
  },
  {
   "cell_type": "code",
   "execution_count": null,
   "id": "662d7b5f",
   "metadata": {
    "collapsed": true,
    "scrolled": true
   },
   "outputs": [],
   "source": []
  },
  {
   "cell_type": "code",
   "execution_count": null,
   "id": "b5c37241",
   "metadata": {
    "collapsed": true,
    "scrolled": true
   },
   "outputs": [],
   "source": []
  },
  {
   "cell_type": "code",
   "execution_count": null,
   "id": "bdde4993",
   "metadata": {
    "collapsed": true,
    "scrolled": true
   },
   "outputs": [],
   "source": []
  },
  {
   "cell_type": "code",
   "execution_count": null,
   "id": "05c84fe0",
   "metadata": {
    "collapsed": true,
    "scrolled": true
   },
   "outputs": [],
   "source": []
  },
  {
   "cell_type": "code",
   "execution_count": null,
   "id": "858fe4b8",
   "metadata": {
    "collapsed": true,
    "scrolled": true
   },
   "outputs": [],
   "source": []
  },
  {
   "cell_type": "code",
   "execution_count": null,
   "id": "5e9ea2a3",
   "metadata": {
    "collapsed": true,
    "scrolled": true
   },
   "outputs": [],
   "source": []
  },
  {
   "cell_type": "code",
   "execution_count": null,
   "id": "7d80187a",
   "metadata": {
    "collapsed": true,
    "scrolled": true
   },
   "outputs": [],
   "source": []
  },
  {
   "cell_type": "code",
   "execution_count": null,
   "id": "1aa94255",
   "metadata": {
    "collapsed": true,
    "scrolled": true
   },
   "outputs": [],
   "source": []
  },
  {
   "cell_type": "code",
   "execution_count": null,
   "id": "b3ef4184",
   "metadata": {
    "collapsed": true,
    "scrolled": true
   },
   "outputs": [],
   "source": []
  },
  {
   "cell_type": "code",
   "execution_count": null,
   "id": "caf2122d",
   "metadata": {
    "collapsed": true,
    "scrolled": true
   },
   "outputs": [],
   "source": []
  },
  {
   "cell_type": "code",
   "execution_count": null,
   "id": "c44414b0",
   "metadata": {
    "collapsed": true,
    "scrolled": true
   },
   "outputs": [],
   "source": []
  },
  {
   "cell_type": "code",
   "execution_count": null,
   "id": "6232d595",
   "metadata": {
    "collapsed": true,
    "scrolled": true
   },
   "outputs": [],
   "source": []
  },
  {
   "cell_type": "code",
   "execution_count": null,
   "id": "91560c88",
   "metadata": {
    "collapsed": true,
    "scrolled": true
   },
   "outputs": [],
   "source": []
  },
  {
   "cell_type": "code",
   "execution_count": null,
   "id": "e3f88c0e",
   "metadata": {
    "collapsed": true,
    "scrolled": true
   },
   "outputs": [],
   "source": []
  },
  {
   "cell_type": "code",
   "execution_count": null,
   "id": "e8f55601",
   "metadata": {
    "collapsed": true,
    "scrolled": true
   },
   "outputs": [],
   "source": []
  },
  {
   "cell_type": "code",
   "execution_count": null,
   "id": "990d202c",
   "metadata": {
    "collapsed": true,
    "scrolled": true
   },
   "outputs": [],
   "source": []
  },
  {
   "cell_type": "code",
   "execution_count": null,
   "id": "8a5f8ede",
   "metadata": {
    "collapsed": true,
    "scrolled": true
   },
   "outputs": [],
   "source": []
  },
  {
   "cell_type": "code",
   "execution_count": null,
   "id": "6a756c49",
   "metadata": {
    "collapsed": true,
    "scrolled": true
   },
   "outputs": [],
   "source": []
  },
  {
   "cell_type": "code",
   "execution_count": null,
   "id": "fa383cd1",
   "metadata": {
    "collapsed": true,
    "scrolled": true
   },
   "outputs": [],
   "source": []
  },
  {
   "cell_type": "code",
   "execution_count": null,
   "id": "3ad876ce",
   "metadata": {
    "collapsed": true,
    "scrolled": true
   },
   "outputs": [],
   "source": []
  },
  {
   "cell_type": "code",
   "execution_count": null,
   "id": "2fbdf263",
   "metadata": {
    "collapsed": true,
    "scrolled": true
   },
   "outputs": [],
   "source": []
  },
  {
   "cell_type": "code",
   "execution_count": null,
   "id": "a8509ddf",
   "metadata": {
    "collapsed": true,
    "scrolled": true
   },
   "outputs": [],
   "source": []
  },
  {
   "cell_type": "code",
   "execution_count": null,
   "id": "12895522",
   "metadata": {
    "collapsed": true,
    "scrolled": true
   },
   "outputs": [],
   "source": []
  },
  {
   "cell_type": "code",
   "execution_count": null,
   "id": "7d8fd50f",
   "metadata": {
    "collapsed": true,
    "scrolled": true
   },
   "outputs": [],
   "source": []
  },
  {
   "cell_type": "code",
   "execution_count": null,
   "id": "3df17ced",
   "metadata": {
    "collapsed": true,
    "scrolled": true
   },
   "outputs": [],
   "source": []
  },
  {
   "cell_type": "code",
   "execution_count": null,
   "id": "d1dca6b0",
   "metadata": {
    "collapsed": true,
    "scrolled": true
   },
   "outputs": [],
   "source": []
  },
  {
   "cell_type": "code",
   "execution_count": null,
   "id": "644564d9",
   "metadata": {
    "collapsed": true,
    "scrolled": true
   },
   "outputs": [],
   "source": []
  },
  {
   "cell_type": "code",
   "execution_count": null,
   "id": "3421c4b0",
   "metadata": {
    "collapsed": true,
    "scrolled": true
   },
   "outputs": [],
   "source": []
  },
  {
   "cell_type": "code",
   "execution_count": null,
   "id": "09d205b8",
   "metadata": {
    "collapsed": true,
    "scrolled": true
   },
   "outputs": [],
   "source": []
  },
  {
   "cell_type": "code",
   "execution_count": null,
   "id": "19d31a08",
   "metadata": {
    "collapsed": true,
    "scrolled": true
   },
   "outputs": [],
   "source": []
  }
 ],
 "metadata": {
  "kernelspec": {
   "display_name": "Python 3 (ipykernel)",
   "language": "python",
   "name": "python3"
  },
  "language_info": {
   "codemirror_mode": {
    "name": "ipython",
    "version": 3
   },
   "file_extension": ".py",
   "mimetype": "text/x-python",
   "name": "python",
   "nbconvert_exporter": "python",
   "pygments_lexer": "ipython3",
   "version": "3.9.7"
  }
 },
 "nbformat": 4,
 "nbformat_minor": 5
}
